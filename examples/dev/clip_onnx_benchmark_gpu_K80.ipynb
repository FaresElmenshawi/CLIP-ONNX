{
  "nbformat": 4,
  "nbformat_minor": 0,
  "metadata": {
    "colab": {
      "name": "clip-onnx-benchmark-gpu-K80.ipynb",
      "provenance": [],
      "authorship_tag": "ABX9TyOXxz4T8v9RCW/JZlRRUtl4",
      "include_colab_link": true
    },
    "kernelspec": {
      "name": "python3",
      "display_name": "Python 3"
    },
    "language_info": {
      "name": "python"
    },
    "accelerator": "GPU"
  },
  "cells": [
    {
      "cell_type": "markdown",
      "metadata": {
        "id": "view-in-github",
        "colab_type": "text"
      },
      "source": [
        "<a href=\"https://colab.research.google.com/github/Lednik7/CLIP-ONNX/blob/dev/examples/dev/clip_onnx_benchmark_gpu_K80.ipynb\" target=\"_parent\"><img src=\"https://colab.research.google.com/assets/colab-badge.svg\" alt=\"Open In Colab\"/></a>"
      ]
    },
    {
      "cell_type": "markdown",
      "source": [
        "## Restart colab session after installation\n",
        "Reload the session if something doesn't work"
      ],
      "metadata": {
        "id": "fxPg_VvZuScV"
      }
    },
    {
      "cell_type": "code",
      "execution_count": 2,
      "metadata": {
        "id": "al_QNjyFq6Jj"
      },
      "outputs": [],
      "source": [
        "%%capture\n",
        "!pip install git+https://github.com/Lednik7/CLIP-ONNX.git@dev\n",
        "!pip install git+https://github.com/openai/CLIP.git\n",
        "!pip install onnxruntime-gpu"
      ]
    },
    {
      "cell_type": "code",
      "source": [
        "%%capture\n",
        "!wget -c -O CLIP.png https://github.com/openai/CLIP/blob/main/CLIP.png?raw=true"
      ],
      "metadata": {
        "id": "42eeJz9lTdJ6"
      },
      "execution_count": 3,
      "outputs": []
    },
    {
      "cell_type": "code",
      "source": [
        "!nvidia-smi"
      ],
      "metadata": {
        "colab": {
          "base_uri": "https://localhost:8080/"
        },
        "id": "XuauIZIBSEUX",
        "outputId": "3bfb5833-272d-4aa0-f296-edab8122547c"
      },
      "execution_count": 1,
      "outputs": [
        {
          "output_type": "stream",
          "name": "stdout",
          "text": [
            "Tue May  3 07:20:58 2022       \n",
            "+-----------------------------------------------------------------------------+\n",
            "| NVIDIA-SMI 460.32.03    Driver Version: 460.32.03    CUDA Version: 11.2     |\n",
            "|-------------------------------+----------------------+----------------------+\n",
            "| GPU  Name        Persistence-M| Bus-Id        Disp.A | Volatile Uncorr. ECC |\n",
            "| Fan  Temp  Perf  Pwr:Usage/Cap|         Memory-Usage | GPU-Util  Compute M. |\n",
            "|                               |                      |               MIG M. |\n",
            "|===============================+======================+======================|\n",
            "|   0  Tesla K80           Off  | 00000000:00:04.0 Off |                    0 |\n",
            "| N/A   56C    P8    29W / 149W |      0MiB / 11441MiB |      0%      Default |\n",
            "|                               |                      |                  N/A |\n",
            "+-------------------------------+----------------------+----------------------+\n",
            "                                                                               \n",
            "+-----------------------------------------------------------------------------+\n",
            "| Processes:                                                                  |\n",
            "|  GPU   GI   CI        PID   Type   Process name                  GPU Memory |\n",
            "|        ID   ID                                                   Usage      |\n",
            "|=============================================================================|\n",
            "|  No running processes found                                                 |\n",
            "+-----------------------------------------------------------------------------+\n"
          ]
        }
      ]
    },
    {
      "cell_type": "code",
      "source": [
        "import onnxruntime\n",
        "print(onnxruntime.get_device())"
      ],
      "metadata": {
        "colab": {
          "base_uri": "https://localhost:8080/"
        },
        "id": "gqvxpdajRX5_",
        "outputId": "bb8e9195-fe9c-421c-e27b-d76da7136b82"
      },
      "execution_count": 2,
      "outputs": [
        {
          "output_type": "stream",
          "name": "stdout",
          "text": [
            "GPU\n"
          ]
        }
      ]
    },
    {
      "cell_type": "markdown",
      "source": [
        "## GPU inference mode\n",
        "Select a runtime GPU to continue:\n",
        "\n",
        "Click Runtime -> Change Runtime Type -> switch \"Harware accelerator\" to be GPU. Save it, and you maybe connect to GPU"
      ],
      "metadata": {
        "id": "010k-ksVTjAu"
      }
    },
    {
      "cell_type": "markdown",
      "source": [
        "### Torch CLIP"
      ],
      "metadata": {
        "id": "KdTz0IJWVBqE"
      }
    },
    {
      "cell_type": "code",
      "source": [
        "import clip\n",
        "from PIL import Image\n",
        "import numpy as np\n",
        "\n",
        "# onnx cannot work with cuda\n",
        "model, preprocess = clip.load(\"ViT-B/32\", device=\"cpu\", jit=False)\n",
        "\n",
        "# batch first\n",
        "image = preprocess(Image.open(\"CLIP.png\")).unsqueeze(0)  # [1, 3, 224, 224]\n",
        "image_onnx = image.detach().cpu().numpy().astype(np.float32)\n",
        "\n",
        "# batch first\n",
        "text = clip.tokenize([\"a diagram\", \"a dog\", \"a cat\"]) # [3, 77]\n",
        "text_onnx = text.detach().cpu().numpy().astype(np.int32)"
      ],
      "metadata": {
        "id": "9ROPwKYurOhP"
      },
      "execution_count": 3,
      "outputs": []
    },
    {
      "cell_type": "markdown",
      "source": [
        "### CLIP-ONNX"
      ],
      "metadata": {
        "id": "Ao2MriaVVG6Y"
      }
    },
    {
      "cell_type": "code",
      "source": [
        "from clip_onnx import clip_onnx\n",
        "from clip_onnx.utils import DEFAULT_EXPORT\n",
        "\n",
        "DEFAULT_EXPORT[\"opset_version\"] = 15\n",
        "\n",
        "onnx_model = clip_onnx(model)\n",
        "onnx_model.convert2onnx(image, text, verbose=True)\n",
        "# ['TensorrtExecutionProvider', 'CUDAExecutionProvider', 'CPUExecutionProvider']\n",
        "onnx_model.start_sessions(providers=[\"CPUExecutionProvider\"]) # GPU mode"
      ],
      "metadata": {
        "id": "nSeG9uAZrcph",
        "colab": {
          "base_uri": "https://localhost:8080/"
        },
        "outputId": "1d4a8404-104f-4107-f2c4-e7e1f7b1d104"
      },
      "execution_count": 5,
      "outputs": [
        {
          "output_type": "stream",
          "name": "stdout",
          "text": [
            "[CLIP ONNX] Start convert visual model\n"
          ]
        },
        {
          "output_type": "stream",
          "name": "stderr",
          "text": [
            "/usr/local/lib/python3.7/dist-packages/torch/onnx/symbolic_helper.py:719: UserWarning: allowzero=0 by default. In order to honor zero value in shape use allowzero=1\n",
            "  warnings.warn(\"allowzero=0 by default. In order to honor zero value in shape use allowzero=1\")\n"
          ]
        },
        {
          "output_type": "stream",
          "name": "stdout",
          "text": [
            "[CLIP ONNX] Start check visual model\n",
            "[CLIP ONNX] Start convert textual model\n"
          ]
        },
        {
          "output_type": "stream",
          "name": "stderr",
          "text": [
            "/usr/local/lib/python3.7/dist-packages/torch/onnx/symbolic_opset9.py:2909: UserWarning: Exporting aten::index operator of advanced indexing in opset 15 is achieved by combination of multiple ONNX operators, including Reshape, Transpose, Concat, and Gather. If indices include negative values, the exported graph will produce incorrect results.\n",
            "  \"If indices include negative values, the exported graph will produce incorrect results.\")\n"
          ]
        },
        {
          "output_type": "stream",
          "name": "stdout",
          "text": [
            "[CLIP ONNX] Start check textual model\n",
            "[CLIP ONNX] Models converts successfully\n"
          ]
        }
      ]
    },
    {
      "cell_type": "code",
      "source": [
        "onnx_model = clip_onnx(model)\n",
        "onnx_model.load_onnx(\"/content/clip_visual.onnx\",\n",
        "                     \"/content/clip_textual.onnx\",\n",
        "                     model.logit_scale.exp())\n",
        "onnx_model.start_sessions(providers=[\"CUDAExecutionProvider\"]) # GPU mode"
      ],
      "metadata": {
        "id": "PsDS7ty79zZf"
      },
      "execution_count": 6,
      "outputs": []
    },
    {
      "cell_type": "code",
      "source": [
        "onnx_model.visual_session.get_providers()"
      ],
      "metadata": {
        "colab": {
          "base_uri": "https://localhost:8080/"
        },
        "id": "aZsGJNrbNCYe",
        "outputId": "b0ee40a7-2ece-4e88-9e35-9ed0a735c533"
      },
      "execution_count": 7,
      "outputs": [
        {
          "output_type": "execute_result",
          "data": {
            "text/plain": [
              "['CUDAExecutionProvider', 'CPUExecutionProvider']"
            ]
          },
          "metadata": {},
          "execution_count": 7
        }
      ]
    },
    {
      "cell_type": "markdown",
      "source": [
        "## Benchmark"
      ],
      "metadata": {
        "id": "J5IcOG_6jAFz"
      }
    },
    {
      "cell_type": "code",
      "source": [
        "model, preprocess = clip.load(\"ViT-B/32\", device=\"cuda\", jit=False)"
      ],
      "metadata": {
        "id": "SJ_5_x7vLepK"
      },
      "execution_count": 8,
      "outputs": []
    },
    {
      "cell_type": "code",
      "source": [
        "model.eval()\n",
        "for x in model.parameters():\n",
        "    x.requires_grad = False"
      ],
      "metadata": {
        "id": "OnOzZ3LMuubW"
      },
      "execution_count": 9,
      "outputs": []
    },
    {
      "cell_type": "code",
      "source": [
        "import numpy, random, torch"
      ],
      "metadata": {
        "id": "wDwqRRrTGKUS"
      },
      "execution_count": 10,
      "outputs": []
    },
    {
      "cell_type": "code",
      "source": [
        "def set_seed():\n",
        "    torch.manual_seed(12)\n",
        "    torch.cuda.manual_seed(12)\n",
        "    np.random.seed(12)\n",
        "    random.seed(12)\n",
        "\n",
        "    torch.backends.cudnn.deterministic=True"
      ],
      "metadata": {
        "id": "9H17n_6gGJgT"
      },
      "execution_count": 11,
      "outputs": []
    },
    {
      "cell_type": "code",
      "source": [
        "import torch\n",
        "import time\n",
        "\n",
        "n = 5\n",
        "clip_results = {\"encode_image\": [],\n",
        "                \"encode_text\": []}\n",
        "onnx_results = {\"encode_image\": [],\n",
        "                \"encode_text\": []}\n",
        "for batch in [2, 8, 16, 32, 64]:\n",
        "    set_seed()\n",
        "    t_mean = []\n",
        "    for _ in range(n):\n",
        "        image_input = torch.randint(1, 255, (batch, 3, 224, 224))\n",
        "        image_input_onnx = image_input.detach().cpu().numpy().astype(np.float32)\n",
        "        t = time.time()\n",
        "        onnx_model.encode_image(image_input_onnx)\n",
        "        t_mean.append(time.time() - t)\n",
        "    print(\"onnx\", batch, \"encode_image\", round(sum(t_mean) / n, 3))\n",
        "    torch.cuda.empty_cache()\n",
        "    onnx_results[\"encode_image\"].append([batch, round(sum(t_mean) / n, 3)])\n",
        "\n",
        "    set_seed()\n",
        "    with torch.inference_mode():\n",
        "        t_mean = []\n",
        "        for _ in range(n):\n",
        "            image_input = torch.randint(1, 255, (batch, 3, 224, 224)).cuda()\n",
        "            t = time.time()\n",
        "            model.encode_image(image_input)\n",
        "            t_mean.append(time.time() - t)\n",
        "    print(\"torch\", batch, \"encode_image\", round(sum(t_mean) / n, 3))\n",
        "    torch.cuda.empty_cache()\n",
        "    clip_results[\"encode_image\"].append([batch, round(sum(t_mean) / n, 3)])\n",
        "\n",
        "    set_seed()\n",
        "    t_mean = []\n",
        "    for _ in range(n):\n",
        "        text_input = torch.randint(320, 49407, (batch, 77))\n",
        "        text_input_onnx = text_input.detach().cpu().numpy().astype(np.int32)\n",
        "        t = time.time()\n",
        "        onnx_model.encode_text(text_input_onnx)\n",
        "        t_mean.append(time.time() - t)\n",
        "    print(\"onnx\", batch, \"encode_text\", round(sum(t_mean) / n, 3))\n",
        "    torch.cuda.empty_cache()\n",
        "    onnx_results[\"encode_text\"].append([batch, round(sum(t_mean) / n, 3)])\n",
        "\n",
        "    set_seed()\n",
        "    with torch.inference_mode():\n",
        "        t_mean = []\n",
        "        for _ in range(n):\n",
        "            text_input = torch.randint(320, 49407, (batch, 77)).cuda()\n",
        "            t = time.time()\n",
        "            model.encode_text(text_input)\n",
        "            t_mean.append(time.time() - t)\n",
        "    print(\"torch\", batch, \"encode_text\", round(sum(t_mean) / n, 3))\n",
        "    torch.cuda.empty_cache()\n",
        "    clip_results[\"encode_text\"].append([batch, round(sum(t_mean) / n, 3)])\n",
        "\n",
        "    print(\"-\" * 78)"
      ],
      "metadata": {
        "colab": {
          "base_uri": "https://localhost:8080/"
        },
        "id": "4lFL6tzWjiWL",
        "outputId": "ccaa7e0a-96f3-4a51-c4bd-c442aa13763c"
      },
      "execution_count": 12,
      "outputs": [
        {
          "output_type": "stream",
          "name": "stdout",
          "text": [
            "onnx 2 encode_image 0.136\n",
            "torch 2 encode_image 0.02\n",
            "onnx 2 encode_text 0.021\n",
            "torch 2 encode_text 0.035\n",
            "------------------------------------------------------------------------------\n",
            "onnx 8 encode_image 0.054\n",
            "torch 8 encode_image 0.081\n",
            "onnx 8 encode_text 0.04\n",
            "torch 8 encode_text 0.098\n",
            "------------------------------------------------------------------------------\n",
            "onnx 16 encode_image 0.089\n",
            "torch 16 encode_image 0.207\n",
            "onnx 16 encode_text 0.071\n",
            "torch 16 encode_text 0.196\n",
            "------------------------------------------------------------------------------\n",
            "onnx 32 encode_image 0.158\n",
            "torch 32 encode_image 0.44\n",
            "onnx 32 encode_text 0.134\n",
            "torch 32 encode_text 0.374\n",
            "------------------------------------------------------------------------------\n",
            "onnx 64 encode_image 0.325\n",
            "torch 64 encode_image 0.919\n",
            "onnx 64 encode_text 0.258\n",
            "torch 64 encode_text 0.719\n",
            "------------------------------------------------------------------------------\n"
          ]
        }
      ]
    },
    {
      "cell_type": "code",
      "source": [
        "import pandas as pd"
      ],
      "metadata": {
        "id": "P2YhbE9v_4ci"
      },
      "execution_count": 13,
      "outputs": []
    },
    {
      "cell_type": "code",
      "source": [
        "pd.DataFrame({\"backend\": [\"onnx\", \"torch\"] * 5,\n",
        "              \"batch\": [2, 2, 8, 8, 16, 16, 32, 32, 64, 64],\n",
        "              \"encode_image\": [j[1] for i in zip(onnx_results[\"encode_image\"],\n",
        "                                              clip_results[\"encode_image\"]) for j in i],\n",
        "              \"encode_text\": [j[1] for i in zip(onnx_results[\"encode_text\"],\n",
        "                                              clip_results[\"encode_text\"]) for j in i]})"
      ],
      "metadata": {
        "colab": {
          "base_uri": "https://localhost:8080/",
          "height": 362
        },
        "id": "WfZfDk4PAlqm",
        "outputId": "78a5cae8-68ee-4edd-f34d-ccf7d3d8a23b"
      },
      "execution_count": 14,
      "outputs": [
        {
          "output_type": "execute_result",
          "data": {
            "text/plain": [
              "  backend  batch  encode_image  encode_text\n",
              "0    onnx      2         0.136        0.021\n",
              "1   torch      2         0.020        0.035\n",
              "2    onnx      8         0.054        0.040\n",
              "3   torch      8         0.081        0.098\n",
              "4    onnx     16         0.089        0.071\n",
              "5   torch     16         0.207        0.196\n",
              "6    onnx     32         0.158        0.134\n",
              "7   torch     32         0.440        0.374\n",
              "8    onnx     64         0.325        0.258\n",
              "9   torch     64         0.919        0.719"
            ],
            "text/html": [
              "\n",
              "  <div id=\"df-253653f6-3c54-446c-8c64-9345630eaf7b\">\n",
              "    <div class=\"colab-df-container\">\n",
              "      <div>\n",
              "<style scoped>\n",
              "    .dataframe tbody tr th:only-of-type {\n",
              "        vertical-align: middle;\n",
              "    }\n",
              "\n",
              "    .dataframe tbody tr th {\n",
              "        vertical-align: top;\n",
              "    }\n",
              "\n",
              "    .dataframe thead th {\n",
              "        text-align: right;\n",
              "    }\n",
              "</style>\n",
              "<table border=\"1\" class=\"dataframe\">\n",
              "  <thead>\n",
              "    <tr style=\"text-align: right;\">\n",
              "      <th></th>\n",
              "      <th>backend</th>\n",
              "      <th>batch</th>\n",
              "      <th>encode_image</th>\n",
              "      <th>encode_text</th>\n",
              "    </tr>\n",
              "  </thead>\n",
              "  <tbody>\n",
              "    <tr>\n",
              "      <th>0</th>\n",
              "      <td>onnx</td>\n",
              "      <td>2</td>\n",
              "      <td>0.136</td>\n",
              "      <td>0.021</td>\n",
              "    </tr>\n",
              "    <tr>\n",
              "      <th>1</th>\n",
              "      <td>torch</td>\n",
              "      <td>2</td>\n",
              "      <td>0.020</td>\n",
              "      <td>0.035</td>\n",
              "    </tr>\n",
              "    <tr>\n",
              "      <th>2</th>\n",
              "      <td>onnx</td>\n",
              "      <td>8</td>\n",
              "      <td>0.054</td>\n",
              "      <td>0.040</td>\n",
              "    </tr>\n",
              "    <tr>\n",
              "      <th>3</th>\n",
              "      <td>torch</td>\n",
              "      <td>8</td>\n",
              "      <td>0.081</td>\n",
              "      <td>0.098</td>\n",
              "    </tr>\n",
              "    <tr>\n",
              "      <th>4</th>\n",
              "      <td>onnx</td>\n",
              "      <td>16</td>\n",
              "      <td>0.089</td>\n",
              "      <td>0.071</td>\n",
              "    </tr>\n",
              "    <tr>\n",
              "      <th>5</th>\n",
              "      <td>torch</td>\n",
              "      <td>16</td>\n",
              "      <td>0.207</td>\n",
              "      <td>0.196</td>\n",
              "    </tr>\n",
              "    <tr>\n",
              "      <th>6</th>\n",
              "      <td>onnx</td>\n",
              "      <td>32</td>\n",
              "      <td>0.158</td>\n",
              "      <td>0.134</td>\n",
              "    </tr>\n",
              "    <tr>\n",
              "      <th>7</th>\n",
              "      <td>torch</td>\n",
              "      <td>32</td>\n",
              "      <td>0.440</td>\n",
              "      <td>0.374</td>\n",
              "    </tr>\n",
              "    <tr>\n",
              "      <th>8</th>\n",
              "      <td>onnx</td>\n",
              "      <td>64</td>\n",
              "      <td>0.325</td>\n",
              "      <td>0.258</td>\n",
              "    </tr>\n",
              "    <tr>\n",
              "      <th>9</th>\n",
              "      <td>torch</td>\n",
              "      <td>64</td>\n",
              "      <td>0.919</td>\n",
              "      <td>0.719</td>\n",
              "    </tr>\n",
              "  </tbody>\n",
              "</table>\n",
              "</div>\n",
              "      <button class=\"colab-df-convert\" onclick=\"convertToInteractive('df-253653f6-3c54-446c-8c64-9345630eaf7b')\"\n",
              "              title=\"Convert this dataframe to an interactive table.\"\n",
              "              style=\"display:none;\">\n",
              "        \n",
              "  <svg xmlns=\"http://www.w3.org/2000/svg\" height=\"24px\"viewBox=\"0 0 24 24\"\n",
              "       width=\"24px\">\n",
              "    <path d=\"M0 0h24v24H0V0z\" fill=\"none\"/>\n",
              "    <path d=\"M18.56 5.44l.94 2.06.94-2.06 2.06-.94-2.06-.94-.94-2.06-.94 2.06-2.06.94zm-11 1L8.5 8.5l.94-2.06 2.06-.94-2.06-.94L8.5 2.5l-.94 2.06-2.06.94zm10 10l.94 2.06.94-2.06 2.06-.94-2.06-.94-.94-2.06-.94 2.06-2.06.94z\"/><path d=\"M17.41 7.96l-1.37-1.37c-.4-.4-.92-.59-1.43-.59-.52 0-1.04.2-1.43.59L10.3 9.45l-7.72 7.72c-.78.78-.78 2.05 0 2.83L4 21.41c.39.39.9.59 1.41.59.51 0 1.02-.2 1.41-.59l7.78-7.78 2.81-2.81c.8-.78.8-2.07 0-2.86zM5.41 20L4 18.59l7.72-7.72 1.47 1.35L5.41 20z\"/>\n",
              "  </svg>\n",
              "      </button>\n",
              "      \n",
              "  <style>\n",
              "    .colab-df-container {\n",
              "      display:flex;\n",
              "      flex-wrap:wrap;\n",
              "      gap: 12px;\n",
              "    }\n",
              "\n",
              "    .colab-df-convert {\n",
              "      background-color: #E8F0FE;\n",
              "      border: none;\n",
              "      border-radius: 50%;\n",
              "      cursor: pointer;\n",
              "      display: none;\n",
              "      fill: #1967D2;\n",
              "      height: 32px;\n",
              "      padding: 0 0 0 0;\n",
              "      width: 32px;\n",
              "    }\n",
              "\n",
              "    .colab-df-convert:hover {\n",
              "      background-color: #E2EBFA;\n",
              "      box-shadow: 0px 1px 2px rgba(60, 64, 67, 0.3), 0px 1px 3px 1px rgba(60, 64, 67, 0.15);\n",
              "      fill: #174EA6;\n",
              "    }\n",
              "\n",
              "    [theme=dark] .colab-df-convert {\n",
              "      background-color: #3B4455;\n",
              "      fill: #D2E3FC;\n",
              "    }\n",
              "\n",
              "    [theme=dark] .colab-df-convert:hover {\n",
              "      background-color: #434B5C;\n",
              "      box-shadow: 0px 1px 3px 1px rgba(0, 0, 0, 0.15);\n",
              "      filter: drop-shadow(0px 1px 2px rgba(0, 0, 0, 0.3));\n",
              "      fill: #FFFFFF;\n",
              "    }\n",
              "  </style>\n",
              "\n",
              "      <script>\n",
              "        const buttonEl =\n",
              "          document.querySelector('#df-253653f6-3c54-446c-8c64-9345630eaf7b button.colab-df-convert');\n",
              "        buttonEl.style.display =\n",
              "          google.colab.kernel.accessAllowed ? 'block' : 'none';\n",
              "\n",
              "        async function convertToInteractive(key) {\n",
              "          const element = document.querySelector('#df-253653f6-3c54-446c-8c64-9345630eaf7b');\n",
              "          const dataTable =\n",
              "            await google.colab.kernel.invokeFunction('convertToInteractive',\n",
              "                                                     [key], {});\n",
              "          if (!dataTable) return;\n",
              "\n",
              "          const docLinkHtml = 'Like what you see? Visit the ' +\n",
              "            '<a target=\"_blank\" href=https://colab.research.google.com/notebooks/data_table.ipynb>data table notebook</a>'\n",
              "            + ' to learn more about interactive tables.';\n",
              "          element.innerHTML = '';\n",
              "          dataTable['output_type'] = 'display_data';\n",
              "          await google.colab.output.renderOutput(dataTable, element);\n",
              "          const docLink = document.createElement('div');\n",
              "          docLink.innerHTML = docLinkHtml;\n",
              "          element.appendChild(docLink);\n",
              "        }\n",
              "      </script>\n",
              "    </div>\n",
              "  </div>\n",
              "  "
            ]
          },
          "metadata": {},
          "execution_count": 14
        }
      ]
    },
    {
      "cell_type": "code",
      "source": [
        "onnx_df = pd.DataFrame({\"ONNX\": [\"ViT-B/32\"] * 5,\n",
        "              \"batch\": [2, 8, 16, 32, 64],\n",
        "              \"encode_image\": [i[1] for i in onnx_results[\"encode_image\"]],\n",
        "              \"encode_text\": [i[1] for i in onnx_results[\"encode_text\"]]})\n",
        "onnx_df[\"total\"] = onnx_df[\"encode_image\"] + onnx_df[\"encode_text\"]"
      ],
      "metadata": {
        "id": "Xpw9lV7yBbA8"
      },
      "execution_count": 15,
      "outputs": []
    },
    {
      "cell_type": "code",
      "source": [
        "onnx_df"
      ],
      "metadata": {
        "colab": {
          "base_uri": "https://localhost:8080/",
          "height": 206
        },
        "id": "LItAyQkeDhnQ",
        "outputId": "f9c1860c-e405-4d41-e530-d2b0027f1fd0"
      },
      "execution_count": 16,
      "outputs": [
        {
          "output_type": "execute_result",
          "data": {
            "text/plain": [
              "       ONNX  batch  encode_image  encode_text  total\n",
              "0  ViT-B/32      2         0.136        0.021  0.157\n",
              "1  ViT-B/32      8         0.054        0.040  0.094\n",
              "2  ViT-B/32     16         0.089        0.071  0.160\n",
              "3  ViT-B/32     32         0.158        0.134  0.292\n",
              "4  ViT-B/32     64         0.325        0.258  0.583"
            ],
            "text/html": [
              "\n",
              "  <div id=\"df-fee38102-dd90-4015-a566-69309cf3ae5f\">\n",
              "    <div class=\"colab-df-container\">\n",
              "      <div>\n",
              "<style scoped>\n",
              "    .dataframe tbody tr th:only-of-type {\n",
              "        vertical-align: middle;\n",
              "    }\n",
              "\n",
              "    .dataframe tbody tr th {\n",
              "        vertical-align: top;\n",
              "    }\n",
              "\n",
              "    .dataframe thead th {\n",
              "        text-align: right;\n",
              "    }\n",
              "</style>\n",
              "<table border=\"1\" class=\"dataframe\">\n",
              "  <thead>\n",
              "    <tr style=\"text-align: right;\">\n",
              "      <th></th>\n",
              "      <th>ONNX</th>\n",
              "      <th>batch</th>\n",
              "      <th>encode_image</th>\n",
              "      <th>encode_text</th>\n",
              "      <th>total</th>\n",
              "    </tr>\n",
              "  </thead>\n",
              "  <tbody>\n",
              "    <tr>\n",
              "      <th>0</th>\n",
              "      <td>ViT-B/32</td>\n",
              "      <td>2</td>\n",
              "      <td>0.136</td>\n",
              "      <td>0.021</td>\n",
              "      <td>0.157</td>\n",
              "    </tr>\n",
              "    <tr>\n",
              "      <th>1</th>\n",
              "      <td>ViT-B/32</td>\n",
              "      <td>8</td>\n",
              "      <td>0.054</td>\n",
              "      <td>0.040</td>\n",
              "      <td>0.094</td>\n",
              "    </tr>\n",
              "    <tr>\n",
              "      <th>2</th>\n",
              "      <td>ViT-B/32</td>\n",
              "      <td>16</td>\n",
              "      <td>0.089</td>\n",
              "      <td>0.071</td>\n",
              "      <td>0.160</td>\n",
              "    </tr>\n",
              "    <tr>\n",
              "      <th>3</th>\n",
              "      <td>ViT-B/32</td>\n",
              "      <td>32</td>\n",
              "      <td>0.158</td>\n",
              "      <td>0.134</td>\n",
              "      <td>0.292</td>\n",
              "    </tr>\n",
              "    <tr>\n",
              "      <th>4</th>\n",
              "      <td>ViT-B/32</td>\n",
              "      <td>64</td>\n",
              "      <td>0.325</td>\n",
              "      <td>0.258</td>\n",
              "      <td>0.583</td>\n",
              "    </tr>\n",
              "  </tbody>\n",
              "</table>\n",
              "</div>\n",
              "      <button class=\"colab-df-convert\" onclick=\"convertToInteractive('df-fee38102-dd90-4015-a566-69309cf3ae5f')\"\n",
              "              title=\"Convert this dataframe to an interactive table.\"\n",
              "              style=\"display:none;\">\n",
              "        \n",
              "  <svg xmlns=\"http://www.w3.org/2000/svg\" height=\"24px\"viewBox=\"0 0 24 24\"\n",
              "       width=\"24px\">\n",
              "    <path d=\"M0 0h24v24H0V0z\" fill=\"none\"/>\n",
              "    <path d=\"M18.56 5.44l.94 2.06.94-2.06 2.06-.94-2.06-.94-.94-2.06-.94 2.06-2.06.94zm-11 1L8.5 8.5l.94-2.06 2.06-.94-2.06-.94L8.5 2.5l-.94 2.06-2.06.94zm10 10l.94 2.06.94-2.06 2.06-.94-2.06-.94-.94-2.06-.94 2.06-2.06.94z\"/><path d=\"M17.41 7.96l-1.37-1.37c-.4-.4-.92-.59-1.43-.59-.52 0-1.04.2-1.43.59L10.3 9.45l-7.72 7.72c-.78.78-.78 2.05 0 2.83L4 21.41c.39.39.9.59 1.41.59.51 0 1.02-.2 1.41-.59l7.78-7.78 2.81-2.81c.8-.78.8-2.07 0-2.86zM5.41 20L4 18.59l7.72-7.72 1.47 1.35L5.41 20z\"/>\n",
              "  </svg>\n",
              "      </button>\n",
              "      \n",
              "  <style>\n",
              "    .colab-df-container {\n",
              "      display:flex;\n",
              "      flex-wrap:wrap;\n",
              "      gap: 12px;\n",
              "    }\n",
              "\n",
              "    .colab-df-convert {\n",
              "      background-color: #E8F0FE;\n",
              "      border: none;\n",
              "      border-radius: 50%;\n",
              "      cursor: pointer;\n",
              "      display: none;\n",
              "      fill: #1967D2;\n",
              "      height: 32px;\n",
              "      padding: 0 0 0 0;\n",
              "      width: 32px;\n",
              "    }\n",
              "\n",
              "    .colab-df-convert:hover {\n",
              "      background-color: #E2EBFA;\n",
              "      box-shadow: 0px 1px 2px rgba(60, 64, 67, 0.3), 0px 1px 3px 1px rgba(60, 64, 67, 0.15);\n",
              "      fill: #174EA6;\n",
              "    }\n",
              "\n",
              "    [theme=dark] .colab-df-convert {\n",
              "      background-color: #3B4455;\n",
              "      fill: #D2E3FC;\n",
              "    }\n",
              "\n",
              "    [theme=dark] .colab-df-convert:hover {\n",
              "      background-color: #434B5C;\n",
              "      box-shadow: 0px 1px 3px 1px rgba(0, 0, 0, 0.15);\n",
              "      filter: drop-shadow(0px 1px 2px rgba(0, 0, 0, 0.3));\n",
              "      fill: #FFFFFF;\n",
              "    }\n",
              "  </style>\n",
              "\n",
              "      <script>\n",
              "        const buttonEl =\n",
              "          document.querySelector('#df-fee38102-dd90-4015-a566-69309cf3ae5f button.colab-df-convert');\n",
              "        buttonEl.style.display =\n",
              "          google.colab.kernel.accessAllowed ? 'block' : 'none';\n",
              "\n",
              "        async function convertToInteractive(key) {\n",
              "          const element = document.querySelector('#df-fee38102-dd90-4015-a566-69309cf3ae5f');\n",
              "          const dataTable =\n",
              "            await google.colab.kernel.invokeFunction('convertToInteractive',\n",
              "                                                     [key], {});\n",
              "          if (!dataTable) return;\n",
              "\n",
              "          const docLinkHtml = 'Like what you see? Visit the ' +\n",
              "            '<a target=\"_blank\" href=https://colab.research.google.com/notebooks/data_table.ipynb>data table notebook</a>'\n",
              "            + ' to learn more about interactive tables.';\n",
              "          element.innerHTML = '';\n",
              "          dataTable['output_type'] = 'display_data';\n",
              "          await google.colab.output.renderOutput(dataTable, element);\n",
              "          const docLink = document.createElement('div');\n",
              "          docLink.innerHTML = docLinkHtml;\n",
              "          element.appendChild(docLink);\n",
              "        }\n",
              "      </script>\n",
              "    </div>\n",
              "  </div>\n",
              "  "
            ]
          },
          "metadata": {},
          "execution_count": 16
        }
      ]
    },
    {
      "cell_type": "code",
      "source": [
        "print(onnx_df.to_markdown(index=False))"
      ],
      "metadata": {
        "colab": {
          "base_uri": "https://localhost:8080/"
        },
        "id": "AIQDA9FaJZ7Y",
        "outputId": "36aa68bb-8ebb-47de-d2b4-b8ce36cacfd7"
      },
      "execution_count": 17,
      "outputs": [
        {
          "output_type": "stream",
          "name": "stdout",
          "text": [
            "| ONNX     |   batch |   encode_image |   encode_text |   total |\n",
            "|:---------|--------:|---------------:|--------------:|--------:|\n",
            "| ViT-B/32 |       2 |          0.136 |         0.021 |   0.157 |\n",
            "| ViT-B/32 |       8 |          0.054 |         0.04  |   0.094 |\n",
            "| ViT-B/32 |      16 |          0.089 |         0.071 |   0.16  |\n",
            "| ViT-B/32 |      32 |          0.158 |         0.134 |   0.292 |\n",
            "| ViT-B/32 |      64 |          0.325 |         0.258 |   0.583 |\n"
          ]
        }
      ]
    },
    {
      "cell_type": "code",
      "source": [
        "clip_df = pd.DataFrame({\"TORCH\": [\"ViT-B/32\"] * 5,\n",
        "              \"batch\": [2, 8, 16, 32, 64],\n",
        "              \"encode_image\": [i[1] for i in clip_results[\"encode_image\"]],\n",
        "              \"encode_text\": [i[1] for i in clip_results[\"encode_text\"]]})\n",
        "clip_df[\"total\"] = clip_df[\"encode_image\"] + clip_df[\"encode_text\"]"
      ],
      "metadata": {
        "id": "E1OXQUDvDZmI"
      },
      "execution_count": 18,
      "outputs": []
    },
    {
      "cell_type": "code",
      "source": [
        "print(clip_df.to_markdown(index=False))"
      ],
      "metadata": {
        "colab": {
          "base_uri": "https://localhost:8080/"
        },
        "id": "xAj-ynhCDpPO",
        "outputId": "6f31dab3-8b2a-4b64-ed97-2ac309d6d749"
      },
      "execution_count": 19,
      "outputs": [
        {
          "output_type": "stream",
          "name": "stdout",
          "text": [
            "| TORCH    |   batch |   encode_image |   encode_text |   total |\n",
            "|:---------|--------:|---------------:|--------------:|--------:|\n",
            "| ViT-B/32 |       2 |          0.02  |         0.035 |   0.055 |\n",
            "| ViT-B/32 |       8 |          0.081 |         0.098 |   0.179 |\n",
            "| ViT-B/32 |      16 |          0.207 |         0.196 |   0.403 |\n",
            "| ViT-B/32 |      32 |          0.44  |         0.374 |   0.814 |\n",
            "| ViT-B/32 |      64 |          0.919 |         0.719 |   1.638 |\n"
          ]
        }
      ]
    }
  ]
}